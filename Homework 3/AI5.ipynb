{
 "cells": [
  {
   "cell_type": "markdown",
   "id": "90713a66",
   "metadata": {},
   "source": [
    "# Sampling  \n",
    "- Terminology: Population and Sampling   \n",
    "- Random Sampling  \n",
    "- Systematic Sampling\n",
    "- Cluster Sampling\n",
    "- Weighted Sampling\n",
    "- Stratified Sampling"
   ]
  },
  {
   "cell_type": "code",
   "execution_count": 3,
   "id": "f1e0cc08",
   "metadata": {},
   "outputs": [],
   "source": [
    "import random"
   ]
  },
  {
   "cell_type": "markdown",
   "id": "60150f7b",
   "metadata": {},
   "source": [
    "### Random Sampling   \n",
    "- random.choice():returns a single random element\n",
    "- random.sample():  a list of multiple random elements without replacement, take cards from a deck\n",
    "- random.choices():  a list of multiple random elements with replacement\n",
    "- random.seed(): fix the random seed\n",
    "- random.shuffle(): shuffle a list"
   ]
  },
  {
   "cell_type": "code",
   "execution_count": 57,
   "id": "b2b824ec",
   "metadata": {},
   "outputs": [
    {
     "name": "stdout",
     "output_type": "stream",
     "text": [
      "0\n"
     ]
    }
   ],
   "source": [
    "l = [0, 1, 2, 3, 4]\n",
    "\n",
    "print(random.choice(l))"
   ]
  },
  {
   "cell_type": "markdown",
   "id": "26a945a4",
   "metadata": {},
   "source": [
    "<b> Question: generate a list with 100 random floats, then random choice one from this list"
   ]
  },
  {
   "cell_type": "code",
   "execution_count": null,
   "id": "62852716",
   "metadata": {},
   "outputs": [],
   "source": []
  },
  {
   "cell_type": "code",
   "execution_count": null,
   "id": "2c7cf8a3",
   "metadata": {},
   "outputs": [],
   "source": []
  },
  {
   "cell_type": "code",
   "execution_count": null,
   "id": "8864bab7",
   "metadata": {},
   "outputs": [],
   "source": []
  },
  {
   "cell_type": "code",
   "execution_count": 59,
   "id": "1bac2666",
   "metadata": {},
   "outputs": [
    {
     "name": "stdout",
     "output_type": "stream",
     "text": [
      "xxx\n"
     ]
    }
   ],
   "source": [
    "print(random.choice(('xxx', 'yyy', 'zzz')))"
   ]
  },
  {
   "cell_type": "code",
   "execution_count": 21,
   "id": "4906576a",
   "metadata": {},
   "outputs": [
    {
     "name": "stdout",
     "output_type": "stream",
     "text": [
      "[1, 2, 3]\n",
      "[0, 1, 2, 4]\n"
     ]
    }
   ],
   "source": [
    "l = [0, 1, 2, 3, 4]\n",
    "\n",
    "print(random.sample(l, 3))\n",
    "print(random.sample(l, 4))"
   ]
  },
  {
   "cell_type": "code",
   "execution_count": 62,
   "id": "8eff588c",
   "metadata": {},
   "outputs": [
    {
     "name": "stdout",
     "output_type": "stream",
     "text": [
      "[4, 1]\n"
     ]
    }
   ],
   "source": [
    "print(random.sample(l, 2))"
   ]
  },
  {
   "cell_type": "code",
   "execution_count": 63,
   "id": "7064ed75",
   "metadata": {},
   "outputs": [
    {
     "name": "stdout",
     "output_type": "stream",
     "text": [
      "[4, 3, 4]\n"
     ]
    }
   ],
   "source": [
    "print(random.choices(l, k=3))"
   ]
  },
  {
   "cell_type": "code",
   "execution_count": 65,
   "id": "ba05c166",
   "metadata": {},
   "outputs": [
    {
     "name": "stdout",
     "output_type": "stream",
     "text": [
      "[2, 4, 0, 0, 1, 0, 0, 2, 1, 2, 2, 4, 2, 2, 2, 4, 1, 2, 1, 4, 2, 4, 1, 3, 3, 1, 1, 2, 2, 3, 3, 2, 4, 1, 3, 2, 2, 3, 4, 4, 4, 4, 3, 3, 2, 1, 3, 4, 2, 2, 3, 2, 3, 2, 1, 3, 4, 3, 1, 0, 4, 4, 0, 2, 0, 2, 3, 4, 3, 0, 1, 4, 4, 0, 4, 3, 0, 1, 1, 0, 0, 0, 0, 4, 1, 0, 4, 3, 2, 0, 2, 3, 1, 4, 0, 4, 3, 3, 1, 2]\n"
     ]
    }
   ],
   "source": [
    "print(random.choices(l, k=100))"
   ]
  },
  {
   "cell_type": "markdown",
   "id": "956b3100",
   "metadata": {},
   "source": [
    "<b> Question:  \n",
    "- generate a list lenth is 10 with random floats  \n",
    "- select 5 from this list without replacement  \n",
    "- select 5 from this list with replacement  "
   ]
  },
  {
   "cell_type": "code",
   "execution_count": null,
   "id": "1bb82191",
   "metadata": {},
   "outputs": [],
   "source": []
  },
  {
   "cell_type": "code",
   "execution_count": null,
   "id": "408d50fa",
   "metadata": {},
   "outputs": [],
   "source": []
  },
  {
   "cell_type": "markdown",
   "id": "6233c12d",
   "metadata": {},
   "source": [
    "### Weighted Sampling\n"
   ]
  },
  {
   "cell_type": "code",
   "execution_count": 66,
   "id": "ff32eadb",
   "metadata": {},
   "outputs": [
    {
     "name": "stdout",
     "output_type": "stream",
     "text": [
      "[3, 3, 3]\n"
     ]
    }
   ],
   "source": [
    "print(random.choices(l, k=3, weights=[0, 1, 1, 10, 1]))"
   ]
  },
  {
   "cell_type": "code",
   "execution_count": null,
   "id": "63123565",
   "metadata": {},
   "outputs": [],
   "source": []
  },
  {
   "cell_type": "code",
   "execution_count": 14,
   "id": "24a66b74",
   "metadata": {},
   "outputs": [
    {
     "name": "stdout",
     "output_type": "stream",
     "text": [
      "[1, 3, 4, 0, 2]\n"
     ]
    }
   ],
   "source": [
    "l = [0, 1, 2, 3, 4]\n",
    "\n",
    "random.shuffle(l)\n",
    "\n",
    "print(l)"
   ]
  },
  {
   "cell_type": "code",
   "execution_count": 12,
   "id": "ccfa206b",
   "metadata": {},
   "outputs": [
    {
     "name": "stdout",
     "output_type": "stream",
     "text": [
      "[4, 1, 3, 0, 2]\n"
     ]
    }
   ],
   "source": [
    "l = [0, 1, 2, 3, 4]\n",
    "\n",
    "l_shuffled = random.sample(l, len(l))\n",
    "print(l_shuffled)"
   ]
  },
  {
   "cell_type": "markdown",
   "id": "7be08572",
   "metadata": {},
   "source": [
    "### Systematic Sampling\n"
   ]
  },
  {
   "cell_type": "code",
   "execution_count": null,
   "id": "ac9ffb00",
   "metadata": {},
   "outputs": [],
   "source": []
  },
  {
   "cell_type": "code",
   "execution_count": 67,
   "id": "a25b9f34",
   "metadata": {},
   "outputs": [],
   "source": [
    "# Import in order to use inbuilt functions\n",
    "import numpy as np\n",
    "import pandas as pd\n",
    " \n",
    "# Define total number of students\n",
    "number_of_students = 15\n",
    " \n",
    "# Create data dictionary\n",
    "data = {'Id': np.arange(1, number_of_students+1).tolist(),\n",
    "        'height': [159, 171, 158, 162, 162, 177, 160, 175,\n",
    "                   168, 171, 178, 178, 173, 177, 164]}\n",
    " \n",
    "# Transform dictionary into a data frame\n",
    "df = pd.DataFrame(data)\n",
    " \n",
    "# display(df)\n",
    " \n",
    "# Define systematic sampling function\n",
    "def systematic_sampling(df, step):\n",
    " \n",
    "    indexes = np.arange(0, len(df), step=step)\n",
    "    systematic_sample = df.iloc[indexes]\n",
    "    return systematic_sample\n",
    " \n",
    " \n",
    "# Obtain a systematic sample and save it in a new variable\n",
    "systematic_sample = systematic_sampling(df, 3)\n",
    " \n",
    "# View sampled data frame\n",
    "# display(systematic_sample)"
   ]
  },
  {
   "cell_type": "markdown",
   "id": "1401a292",
   "metadata": {},
   "source": [
    "<b> Question: read penguins_iter.csv, then use the sysmetics sampling to sample data, step sets to 5"
   ]
  },
  {
   "cell_type": "code",
   "execution_count": null,
   "id": "01616077",
   "metadata": {},
   "outputs": [],
   "source": []
  },
  {
   "cell_type": "code",
   "execution_count": null,
   "id": "ceb797e4",
   "metadata": {},
   "outputs": [],
   "source": []
  },
  {
   "cell_type": "code",
   "execution_count": null,
   "id": "a469df19",
   "metadata": {},
   "outputs": [],
   "source": []
  },
  {
   "cell_type": "code",
   "execution_count": null,
   "id": "da242d31",
   "metadata": {},
   "outputs": [],
   "source": []
  },
  {
   "cell_type": "code",
   "execution_count": null,
   "id": "b8852b28",
   "metadata": {},
   "outputs": [],
   "source": [
    "import random"
   ]
  },
  {
   "cell_type": "markdown",
   "id": "4174943b",
   "metadata": {},
   "source": [
    "Generate random numbers:\n",
    "- Generate random integers : randrange(), randint()\n",
    "- Generate random floating : uniform(), random()\n",
    "- Generate a list of random numbers\n",
    "\n",
    "\n",
    "- Beta distribution: random.betavariate()\n",
    "- Exponential distribution: random.expovariate()\n",
    "- Gamma distribution: random.gammavariate()\n",
    "- Gaussian distribution: random.gauss()\n",
    "- Log normal distribution: random.lognormvariate()\n",
    "- Normal distribution: random.normalvariate()\n",
    "- von Mises distribution: random.vonmisesvariate()\n",
    "- Pareto distribution: random.paretovariate()\n",
    "- Weibull distribution: random.weibullvariate()"
   ]
  },
  {
   "cell_type": "code",
   "execution_count": 4,
   "id": "6e359fb4",
   "metadata": {},
   "outputs": [
    {
     "name": "stdout",
     "output_type": "stream",
     "text": [
      "0.08495981584077161\n"
     ]
    }
   ],
   "source": [
    "print(random.random())\n"
   ]
  },
  {
   "cell_type": "code",
   "execution_count": 5,
   "id": "7c097e3f",
   "metadata": {},
   "outputs": [
    {
     "name": "stdout",
     "output_type": "stream",
     "text": [
      "198.90787935649226\n"
     ]
    }
   ],
   "source": [
    "print(random.uniform(100, 200))"
   ]
  },
  {
   "cell_type": "code",
   "execution_count": 6,
   "id": "21e2deed",
   "metadata": {},
   "outputs": [
    {
     "name": "stdout",
     "output_type": "stream",
     "text": [
      "10\n",
      "73\n"
     ]
    }
   ],
   "source": [
    "print(random.randrange(10, 20, 2))\n",
    "print(random.randint(50, 100))"
   ]
  },
  {
   "cell_type": "markdown",
   "id": "974d4290",
   "metadata": {},
   "source": [
    "<b> Question: Generate 10 integers and put them in a list"
   ]
  },
  {
   "cell_type": "code",
   "execution_count": 39,
   "id": "ec430fe3",
   "metadata": {},
   "outputs": [
    {
     "name": "stdout",
     "output_type": "stream",
     "text": [
      "[1, 4, 8, 4, 1]\n"
     ]
    }
   ],
   "source": [
    "print([random.randint(0, 10) for i in range(5)])"
   ]
  },
  {
   "cell_type": "code",
   "execution_count": null,
   "id": "2e18712e",
   "metadata": {},
   "outputs": [],
   "source": []
  },
  {
   "cell_type": "code",
   "execution_count": null,
   "id": "54382654",
   "metadata": {},
   "outputs": [],
   "source": []
  },
  {
   "cell_type": "code",
   "execution_count": null,
   "id": "a31dd103",
   "metadata": {},
   "outputs": [],
   "source": []
  },
  {
   "cell_type": "code",
   "execution_count": 7,
   "id": "38f6e2cd",
   "metadata": {},
   "outputs": [
    {
     "name": "stdout",
     "output_type": "stream",
     "text": [
      "[0.46956348970928574, 0.47392382960408297, 0.25260094388241716, 0.7849017409976323, 0.3385096960144236]\n"
     ]
    }
   ],
   "source": [
    "print([random.random() for i in range(5)])"
   ]
  },
  {
   "cell_type": "code",
   "execution_count": 8,
   "id": "c3c4aae8",
   "metadata": {},
   "outputs": [
    {
     "name": "stdout",
     "output_type": "stream",
     "text": [
      "[1, 1, 6, 10, 10]\n"
     ]
    }
   ],
   "source": [
    "print([random.randint(0, 10) for i in range(5)])"
   ]
  },
  {
   "cell_type": "code",
   "execution_count": 52,
   "id": "19a4902d",
   "metadata": {},
   "outputs": [
    {
     "name": "stdout",
     "output_type": "stream",
     "text": [
      "0.9081128851953352\n"
     ]
    }
   ],
   "source": [
    "# random.seed(0)\n",
    "print(random.random())"
   ]
  },
  {
   "cell_type": "code",
   "execution_count": 54,
   "id": "549c943d",
   "metadata": {},
   "outputs": [
    {
     "name": "stdout",
     "output_type": "stream",
     "text": [
      "0.9560342718892494\n",
      "0.9478274870593494\n",
      "0.9560342718892494\n"
     ]
    }
   ],
   "source": [
    "random.seed(2)\n",
    "print(random.random())\n",
    "\n",
    "\n",
    "print(random.random())\n",
    "\n",
    "\n",
    "random.seed(2)\n",
    "print(random.random())"
   ]
  },
  {
   "cell_type": "markdown",
   "id": "96d56b27",
   "metadata": {},
   "source": [
    "Sampling wutg pandas"
   ]
  },
  {
   "cell_type": "code",
   "execution_count": null,
   "id": "128f54a4",
   "metadata": {},
   "outputs": [],
   "source": []
  },
  {
   "cell_type": "markdown",
   "id": "eb676122",
   "metadata": {},
   "source": [
    "### Dataframe sampling"
   ]
  },
  {
   "cell_type": "markdown",
   "id": "64ccf24f",
   "metadata": {},
   "source": [
    "<b> Question: read penguins_iter.csv data"
   ]
  },
  {
   "cell_type": "code",
   "execution_count": 72,
   "id": "d3542277",
   "metadata": {},
   "outputs": [],
   "source": [
    "import pandas as pd"
   ]
  },
  {
   "cell_type": "code",
   "execution_count": 73,
   "id": "ff5b512b",
   "metadata": {},
   "outputs": [],
   "source": [
    "file = r\"C:\\Users\\ZhaoY\\Downloads\\Engr10200_A Data Science and Statistical Approach to Programming\\penguins_lter.csv\""
   ]
  },
  {
   "cell_type": "code",
   "execution_count": 74,
   "id": "3af517b5",
   "metadata": {},
   "outputs": [],
   "source": [
    "df = pd.read_csv(file)"
   ]
  },
  {
   "cell_type": "code",
   "execution_count": 75,
   "id": "d391a294",
   "metadata": {},
   "outputs": [
    {
     "data": {
      "text/html": [
       "<div>\n",
       "<style scoped>\n",
       "    .dataframe tbody tr th:only-of-type {\n",
       "        vertical-align: middle;\n",
       "    }\n",
       "\n",
       "    .dataframe tbody tr th {\n",
       "        vertical-align: top;\n",
       "    }\n",
       "\n",
       "    .dataframe thead th {\n",
       "        text-align: right;\n",
       "    }\n",
       "</style>\n",
       "<table border=\"1\" class=\"dataframe\">\n",
       "  <thead>\n",
       "    <tr style=\"text-align: right;\">\n",
       "      <th></th>\n",
       "      <th>studyName</th>\n",
       "      <th>Sample Number</th>\n",
       "      <th>Species</th>\n",
       "      <th>Region</th>\n",
       "      <th>Island</th>\n",
       "      <th>Stage</th>\n",
       "      <th>Individual ID</th>\n",
       "      <th>Clutch Completion</th>\n",
       "      <th>Date Egg</th>\n",
       "      <th>Culmen Length (mm)</th>\n",
       "      <th>Culmen Depth (mm)</th>\n",
       "      <th>Flipper Length (mm)</th>\n",
       "      <th>Body Mass (g)</th>\n",
       "      <th>Sex</th>\n",
       "      <th>Delta 15 N (o/oo)</th>\n",
       "      <th>Delta 13 C (o/oo)</th>\n",
       "      <th>Comments</th>\n",
       "    </tr>\n",
       "  </thead>\n",
       "  <tbody>\n",
       "    <tr>\n",
       "      <th>109</th>\n",
       "      <td>PAL0910</td>\n",
       "      <td>110</td>\n",
       "      <td>Adelie Penguin (Pygoscelis adeliae)</td>\n",
       "      <td>Anvers</td>\n",
       "      <td>Biscoe</td>\n",
       "      <td>Adult, 1 Egg Stage</td>\n",
       "      <td>N55A2</td>\n",
       "      <td>Yes</td>\n",
       "      <td>11/20/09</td>\n",
       "      <td>43.2</td>\n",
       "      <td>19.0</td>\n",
       "      <td>197.0</td>\n",
       "      <td>4775.0</td>\n",
       "      <td>MALE</td>\n",
       "      <td>9.31735</td>\n",
       "      <td>-25.45171</td>\n",
       "      <td>NaN</td>\n",
       "    </tr>\n",
       "  </tbody>\n",
       "</table>\n",
       "</div>"
      ],
      "text/plain": [
       "    studyName  Sample Number                              Species  Region  \\\n",
       "109   PAL0910            110  Adelie Penguin (Pygoscelis adeliae)  Anvers   \n",
       "\n",
       "     Island               Stage Individual ID Clutch Completion  Date Egg  \\\n",
       "109  Biscoe  Adult, 1 Egg Stage         N55A2               Yes  11/20/09   \n",
       "\n",
       "     Culmen Length (mm)  Culmen Depth (mm)  Flipper Length (mm)  \\\n",
       "109                43.2               19.0                197.0   \n",
       "\n",
       "     Body Mass (g)   Sex  Delta 15 N (o/oo)  Delta 13 C (o/oo) Comments  \n",
       "109         4775.0  MALE            9.31735          -25.45171      NaN  "
      ]
     },
     "execution_count": 75,
     "metadata": {},
     "output_type": "execute_result"
    }
   ],
   "source": [
    "row = df.sample(n = 1)\n",
    "row"
   ]
  },
  {
   "cell_type": "code",
   "execution_count": 77,
   "id": "2c29c7e4",
   "metadata": {},
   "outputs": [
    {
     "data": {
      "text/html": [
       "<div>\n",
       "<style scoped>\n",
       "    .dataframe tbody tr th:only-of-type {\n",
       "        vertical-align: middle;\n",
       "    }\n",
       "\n",
       "    .dataframe tbody tr th {\n",
       "        vertical-align: top;\n",
       "    }\n",
       "\n",
       "    .dataframe thead th {\n",
       "        text-align: right;\n",
       "    }\n",
       "</style>\n",
       "<table border=\"1\" class=\"dataframe\">\n",
       "  <thead>\n",
       "    <tr style=\"text-align: right;\">\n",
       "      <th></th>\n",
       "      <th>studyName</th>\n",
       "      <th>Sample Number</th>\n",
       "      <th>Species</th>\n",
       "      <th>Region</th>\n",
       "      <th>Island</th>\n",
       "      <th>Stage</th>\n",
       "      <th>Individual ID</th>\n",
       "      <th>Clutch Completion</th>\n",
       "      <th>Date Egg</th>\n",
       "      <th>Culmen Length (mm)</th>\n",
       "      <th>Culmen Depth (mm)</th>\n",
       "      <th>Flipper Length (mm)</th>\n",
       "      <th>Body Mass (g)</th>\n",
       "      <th>Sex</th>\n",
       "      <th>Delta 15 N (o/oo)</th>\n",
       "      <th>Delta 13 C (o/oo)</th>\n",
       "      <th>Comments</th>\n",
       "    </tr>\n",
       "  </thead>\n",
       "  <tbody>\n",
       "    <tr>\n",
       "      <th>200</th>\n",
       "      <td>PAL0910</td>\n",
       "      <td>49</td>\n",
       "      <td>Chinstrap penguin (Pygoscelis antarctica)</td>\n",
       "      <td>Anvers</td>\n",
       "      <td>Dream</td>\n",
       "      <td>Adult, 1 Egg Stage</td>\n",
       "      <td>N88A1</td>\n",
       "      <td>Yes</td>\n",
       "      <td>11/23/09</td>\n",
       "      <td>51.5</td>\n",
       "      <td>18.7</td>\n",
       "      <td>187.0</td>\n",
       "      <td>3250.0</td>\n",
       "      <td>MALE</td>\n",
       "      <td>9.68950</td>\n",
       "      <td>-24.43062</td>\n",
       "      <td>NaN</td>\n",
       "    </tr>\n",
       "    <tr>\n",
       "      <th>140</th>\n",
       "      <td>PAL0910</td>\n",
       "      <td>141</td>\n",
       "      <td>Adelie Penguin (Pygoscelis adeliae)</td>\n",
       "      <td>Anvers</td>\n",
       "      <td>Dream</td>\n",
       "      <td>Adult, 1 Egg Stage</td>\n",
       "      <td>N80A1</td>\n",
       "      <td>Yes</td>\n",
       "      <td>11/14/09</td>\n",
       "      <td>40.2</td>\n",
       "      <td>17.1</td>\n",
       "      <td>193.0</td>\n",
       "      <td>3400.0</td>\n",
       "      <td>FEMALE</td>\n",
       "      <td>9.28810</td>\n",
       "      <td>-25.54976</td>\n",
       "      <td>NaN</td>\n",
       "    </tr>\n",
       "    <tr>\n",
       "      <th>94</th>\n",
       "      <td>PAL0809</td>\n",
       "      <td>95</td>\n",
       "      <td>Adelie Penguin (Pygoscelis adeliae)</td>\n",
       "      <td>Anvers</td>\n",
       "      <td>Dream</td>\n",
       "      <td>Adult, 1 Egg Stage</td>\n",
       "      <td>N48A1</td>\n",
       "      <td>Yes</td>\n",
       "      <td>11/17/08</td>\n",
       "      <td>36.2</td>\n",
       "      <td>17.3</td>\n",
       "      <td>187.0</td>\n",
       "      <td>3300.0</td>\n",
       "      <td>FEMALE</td>\n",
       "      <td>8.90723</td>\n",
       "      <td>-26.30037</td>\n",
       "      <td>NaN</td>\n",
       "    </tr>\n",
       "    <tr>\n",
       "      <th>89</th>\n",
       "      <td>PAL0809</td>\n",
       "      <td>90</td>\n",
       "      <td>Adelie Penguin (Pygoscelis adeliae)</td>\n",
       "      <td>Anvers</td>\n",
       "      <td>Dream</td>\n",
       "      <td>Adult, 1 Egg Stage</td>\n",
       "      <td>N44A2</td>\n",
       "      <td>Yes</td>\n",
       "      <td>11/8/08</td>\n",
       "      <td>38.9</td>\n",
       "      <td>18.8</td>\n",
       "      <td>190.0</td>\n",
       "      <td>3600.0</td>\n",
       "      <td>FEMALE</td>\n",
       "      <td>8.36936</td>\n",
       "      <td>-26.11199</td>\n",
       "      <td>NaN</td>\n",
       "    </tr>\n",
       "    <tr>\n",
       "      <th>116</th>\n",
       "      <td>PAL0910</td>\n",
       "      <td>117</td>\n",
       "      <td>Adelie Penguin (Pygoscelis adeliae)</td>\n",
       "      <td>Anvers</td>\n",
       "      <td>Torgersen</td>\n",
       "      <td>Adult, 1 Egg Stage</td>\n",
       "      <td>N63A1</td>\n",
       "      <td>Yes</td>\n",
       "      <td>11/18/09</td>\n",
       "      <td>38.6</td>\n",
       "      <td>17.0</td>\n",
       "      <td>188.0</td>\n",
       "      <td>2900.0</td>\n",
       "      <td>FEMALE</td>\n",
       "      <td>9.18021</td>\n",
       "      <td>-25.77264</td>\n",
       "      <td>NaN</td>\n",
       "    </tr>\n",
       "  </tbody>\n",
       "</table>\n",
       "</div>"
      ],
      "text/plain": [
       "    studyName  Sample Number                                    Species  \\\n",
       "200   PAL0910             49  Chinstrap penguin (Pygoscelis antarctica)   \n",
       "140   PAL0910            141        Adelie Penguin (Pygoscelis adeliae)   \n",
       "94    PAL0809             95        Adelie Penguin (Pygoscelis adeliae)   \n",
       "89    PAL0809             90        Adelie Penguin (Pygoscelis adeliae)   \n",
       "116   PAL0910            117        Adelie Penguin (Pygoscelis adeliae)   \n",
       "\n",
       "     Region     Island               Stage Individual ID Clutch Completion  \\\n",
       "200  Anvers      Dream  Adult, 1 Egg Stage         N88A1               Yes   \n",
       "140  Anvers      Dream  Adult, 1 Egg Stage         N80A1               Yes   \n",
       "94   Anvers      Dream  Adult, 1 Egg Stage         N48A1               Yes   \n",
       "89   Anvers      Dream  Adult, 1 Egg Stage         N44A2               Yes   \n",
       "116  Anvers  Torgersen  Adult, 1 Egg Stage         N63A1               Yes   \n",
       "\n",
       "     Date Egg  Culmen Length (mm)  Culmen Depth (mm)  Flipper Length (mm)  \\\n",
       "200  11/23/09                51.5               18.7                187.0   \n",
       "140  11/14/09                40.2               17.1                193.0   \n",
       "94   11/17/08                36.2               17.3                187.0   \n",
       "89    11/8/08                38.9               18.8                190.0   \n",
       "116  11/18/09                38.6               17.0                188.0   \n",
       "\n",
       "     Body Mass (g)     Sex  Delta 15 N (o/oo)  Delta 13 C (o/oo) Comments  \n",
       "200         3250.0    MALE            9.68950          -24.43062      NaN  \n",
       "140         3400.0  FEMALE            9.28810          -25.54976      NaN  \n",
       "94          3300.0  FEMALE            8.90723          -26.30037      NaN  \n",
       "89          3600.0  FEMALE            8.36936          -26.11199      NaN  \n",
       "116         2900.0  FEMALE            9.18021          -25.77264      NaN  "
      ]
     },
     "execution_count": 77,
     "metadata": {},
     "output_type": "execute_result"
    }
   ],
   "source": [
    "row = df.sample(n = 5)\n",
    "row"
   ]
  },
  {
   "cell_type": "code",
   "execution_count": null,
   "id": "3a07fe94",
   "metadata": {},
   "outputs": [],
   "source": []
  },
  {
   "cell_type": "code",
   "execution_count": 31,
   "id": "2a639445",
   "metadata": {},
   "outputs": [
    {
     "name": "stdout",
     "output_type": "stream",
     "text": [
      "Cool\n",
      "344 86\n"
     ]
    },
    {
     "data": {
      "text/html": [
       "<div>\n",
       "<style scoped>\n",
       "    .dataframe tbody tr th:only-of-type {\n",
       "        vertical-align: middle;\n",
       "    }\n",
       "\n",
       "    .dataframe tbody tr th {\n",
       "        vertical-align: top;\n",
       "    }\n",
       "\n",
       "    .dataframe thead th {\n",
       "        text-align: right;\n",
       "    }\n",
       "</style>\n",
       "<table border=\"1\" class=\"dataframe\">\n",
       "  <thead>\n",
       "    <tr style=\"text-align: right;\">\n",
       "      <th></th>\n",
       "      <th>studyName</th>\n",
       "      <th>Sample Number</th>\n",
       "      <th>Species</th>\n",
       "      <th>Region</th>\n",
       "      <th>Island</th>\n",
       "      <th>Stage</th>\n",
       "      <th>Individual ID</th>\n",
       "      <th>Clutch Completion</th>\n",
       "      <th>Date Egg</th>\n",
       "      <th>Culmen Length (mm)</th>\n",
       "      <th>Culmen Depth (mm)</th>\n",
       "      <th>Flipper Length (mm)</th>\n",
       "      <th>Body Mass (g)</th>\n",
       "      <th>Sex</th>\n",
       "      <th>Delta 15 N (o/oo)</th>\n",
       "      <th>Delta 13 C (o/oo)</th>\n",
       "      <th>Comments</th>\n",
       "    </tr>\n",
       "  </thead>\n",
       "  <tbody>\n",
       "    <tr>\n",
       "      <th>222</th>\n",
       "      <td>PAL0708</td>\n",
       "      <td>3</td>\n",
       "      <td>Gentoo penguin (Pygoscelis papua)</td>\n",
       "      <td>Anvers</td>\n",
       "      <td>Biscoe</td>\n",
       "      <td>Adult, 1 Egg Stage</td>\n",
       "      <td>N32A1</td>\n",
       "      <td>Yes</td>\n",
       "      <td>11/27/07</td>\n",
       "      <td>48.7</td>\n",
       "      <td>14.1</td>\n",
       "      <td>210.0</td>\n",
       "      <td>4450.0</td>\n",
       "      <td>FEMALE</td>\n",
       "      <td>8.14705</td>\n",
       "      <td>-25.46172</td>\n",
       "      <td>NaN</td>\n",
       "    </tr>\n",
       "    <tr>\n",
       "      <th>318</th>\n",
       "      <td>PAL0910</td>\n",
       "      <td>99</td>\n",
       "      <td>Gentoo penguin (Pygoscelis papua)</td>\n",
       "      <td>Anvers</td>\n",
       "      <td>Biscoe</td>\n",
       "      <td>Adult, 1 Egg Stage</td>\n",
       "      <td>N21A1</td>\n",
       "      <td>Yes</td>\n",
       "      <td>11/18/09</td>\n",
       "      <td>48.4</td>\n",
       "      <td>14.4</td>\n",
       "      <td>203.0</td>\n",
       "      <td>4625.0</td>\n",
       "      <td>FEMALE</td>\n",
       "      <td>8.16582</td>\n",
       "      <td>-26.13971</td>\n",
       "      <td>NaN</td>\n",
       "    </tr>\n",
       "    <tr>\n",
       "      <th>97</th>\n",
       "      <td>PAL0809</td>\n",
       "      <td>98</td>\n",
       "      <td>Adelie Penguin (Pygoscelis adeliae)</td>\n",
       "      <td>Anvers</td>\n",
       "      <td>Dream</td>\n",
       "      <td>Adult, 1 Egg Stage</td>\n",
       "      <td>N49A2</td>\n",
       "      <td>Yes</td>\n",
       "      <td>11/8/08</td>\n",
       "      <td>40.3</td>\n",
       "      <td>18.5</td>\n",
       "      <td>196.0</td>\n",
       "      <td>4350.0</td>\n",
       "      <td>MALE</td>\n",
       "      <td>8.39459</td>\n",
       "      <td>-26.01152</td>\n",
       "      <td>NaN</td>\n",
       "    </tr>\n",
       "    <tr>\n",
       "      <th>306</th>\n",
       "      <td>PAL0910</td>\n",
       "      <td>87</td>\n",
       "      <td>Gentoo penguin (Pygoscelis papua)</td>\n",
       "      <td>Anvers</td>\n",
       "      <td>Biscoe</td>\n",
       "      <td>Adult, 1 Egg Stage</td>\n",
       "      <td>N13A1</td>\n",
       "      <td>Yes</td>\n",
       "      <td>11/20/09</td>\n",
       "      <td>43.4</td>\n",
       "      <td>14.4</td>\n",
       "      <td>218.0</td>\n",
       "      <td>4600.0</td>\n",
       "      <td>FEMALE</td>\n",
       "      <td>8.23468</td>\n",
       "      <td>-26.18599</td>\n",
       "      <td>NaN</td>\n",
       "    </tr>\n",
       "    <tr>\n",
       "      <th>289</th>\n",
       "      <td>PAL0809</td>\n",
       "      <td>70</td>\n",
       "      <td>Gentoo penguin (Pygoscelis papua)</td>\n",
       "      <td>Anvers</td>\n",
       "      <td>Biscoe</td>\n",
       "      <td>Adult, 1 Egg Stage</td>\n",
       "      <td>N53A2</td>\n",
       "      <td>Yes</td>\n",
       "      <td>11/13/08</td>\n",
       "      <td>50.7</td>\n",
       "      <td>15.0</td>\n",
       "      <td>223.0</td>\n",
       "      <td>5550.0</td>\n",
       "      <td>MALE</td>\n",
       "      <td>8.63551</td>\n",
       "      <td>-26.74249</td>\n",
       "      <td>NaN</td>\n",
       "    </tr>\n",
       "    <tr>\n",
       "      <th>...</th>\n",
       "      <td>...</td>\n",
       "      <td>...</td>\n",
       "      <td>...</td>\n",
       "      <td>...</td>\n",
       "      <td>...</td>\n",
       "      <td>...</td>\n",
       "      <td>...</td>\n",
       "      <td>...</td>\n",
       "      <td>...</td>\n",
       "      <td>...</td>\n",
       "      <td>...</td>\n",
       "      <td>...</td>\n",
       "      <td>...</td>\n",
       "      <td>...</td>\n",
       "      <td>...</td>\n",
       "      <td>...</td>\n",
       "      <td>...</td>\n",
       "    </tr>\n",
       "    <tr>\n",
       "      <th>28</th>\n",
       "      <td>PAL0708</td>\n",
       "      <td>29</td>\n",
       "      <td>Adelie Penguin (Pygoscelis adeliae)</td>\n",
       "      <td>Anvers</td>\n",
       "      <td>Biscoe</td>\n",
       "      <td>Adult, 1 Egg Stage</td>\n",
       "      <td>N18A1</td>\n",
       "      <td>No</td>\n",
       "      <td>11/10/07</td>\n",
       "      <td>37.9</td>\n",
       "      <td>18.6</td>\n",
       "      <td>172.0</td>\n",
       "      <td>3150.0</td>\n",
       "      <td>FEMALE</td>\n",
       "      <td>8.38404</td>\n",
       "      <td>-25.19837</td>\n",
       "      <td>Nest never observed with full clutch.</td>\n",
       "    </tr>\n",
       "    <tr>\n",
       "      <th>273</th>\n",
       "      <td>PAL0809</td>\n",
       "      <td>54</td>\n",
       "      <td>Gentoo penguin (Pygoscelis papua)</td>\n",
       "      <td>Anvers</td>\n",
       "      <td>Biscoe</td>\n",
       "      <td>Adult, 1 Egg Stage</td>\n",
       "      <td>N14A2</td>\n",
       "      <td>Yes</td>\n",
       "      <td>11/4/08</td>\n",
       "      <td>50.1</td>\n",
       "      <td>15.0</td>\n",
       "      <td>225.0</td>\n",
       "      <td>5000.0</td>\n",
       "      <td>MALE</td>\n",
       "      <td>8.50153</td>\n",
       "      <td>-26.61414</td>\n",
       "      <td>NaN</td>\n",
       "    </tr>\n",
       "    <tr>\n",
       "      <th>194</th>\n",
       "      <td>PAL0809</td>\n",
       "      <td>43</td>\n",
       "      <td>Chinstrap penguin (Pygoscelis antarctica)</td>\n",
       "      <td>Anvers</td>\n",
       "      <td>Dream</td>\n",
       "      <td>Adult, 1 Egg Stage</td>\n",
       "      <td>N75A1</td>\n",
       "      <td>Yes</td>\n",
       "      <td>11/14/08</td>\n",
       "      <td>50.9</td>\n",
       "      <td>19.1</td>\n",
       "      <td>196.0</td>\n",
       "      <td>3550.0</td>\n",
       "      <td>MALE</td>\n",
       "      <td>10.02372</td>\n",
       "      <td>-24.86594</td>\n",
       "      <td>NaN</td>\n",
       "    </tr>\n",
       "    <tr>\n",
       "      <th>63</th>\n",
       "      <td>PAL0809</td>\n",
       "      <td>64</td>\n",
       "      <td>Adelie Penguin (Pygoscelis adeliae)</td>\n",
       "      <td>Anvers</td>\n",
       "      <td>Biscoe</td>\n",
       "      <td>Adult, 1 Egg Stage</td>\n",
       "      <td>N28A2</td>\n",
       "      <td>Yes</td>\n",
       "      <td>11/13/08</td>\n",
       "      <td>41.1</td>\n",
       "      <td>18.2</td>\n",
       "      <td>192.0</td>\n",
       "      <td>4050.0</td>\n",
       "      <td>MALE</td>\n",
       "      <td>8.62264</td>\n",
       "      <td>-26.60023</td>\n",
       "      <td>NaN</td>\n",
       "    </tr>\n",
       "    <tr>\n",
       "      <th>325</th>\n",
       "      <td>PAL0910</td>\n",
       "      <td>106</td>\n",
       "      <td>Gentoo penguin (Pygoscelis papua)</td>\n",
       "      <td>Anvers</td>\n",
       "      <td>Biscoe</td>\n",
       "      <td>Adult, 1 Egg Stage</td>\n",
       "      <td>N24A2</td>\n",
       "      <td>Yes</td>\n",
       "      <td>12/1/09</td>\n",
       "      <td>46.8</td>\n",
       "      <td>16.1</td>\n",
       "      <td>215.0</td>\n",
       "      <td>5500.0</td>\n",
       "      <td>MALE</td>\n",
       "      <td>8.32359</td>\n",
       "      <td>-26.05756</td>\n",
       "      <td>NaN</td>\n",
       "    </tr>\n",
       "  </tbody>\n",
       "</table>\n",
       "<p>86 rows × 17 columns</p>\n",
       "</div>"
      ],
      "text/plain": [
       "    studyName  Sample Number                                    Species  \\\n",
       "222   PAL0708              3          Gentoo penguin (Pygoscelis papua)   \n",
       "318   PAL0910             99          Gentoo penguin (Pygoscelis papua)   \n",
       "97    PAL0809             98        Adelie Penguin (Pygoscelis adeliae)   \n",
       "306   PAL0910             87          Gentoo penguin (Pygoscelis papua)   \n",
       "289   PAL0809             70          Gentoo penguin (Pygoscelis papua)   \n",
       "..        ...            ...                                        ...   \n",
       "28    PAL0708             29        Adelie Penguin (Pygoscelis adeliae)   \n",
       "273   PAL0809             54          Gentoo penguin (Pygoscelis papua)   \n",
       "194   PAL0809             43  Chinstrap penguin (Pygoscelis antarctica)   \n",
       "63    PAL0809             64        Adelie Penguin (Pygoscelis adeliae)   \n",
       "325   PAL0910            106          Gentoo penguin (Pygoscelis papua)   \n",
       "\n",
       "     Region  Island               Stage Individual ID Clutch Completion  \\\n",
       "222  Anvers  Biscoe  Adult, 1 Egg Stage         N32A1               Yes   \n",
       "318  Anvers  Biscoe  Adult, 1 Egg Stage         N21A1               Yes   \n",
       "97   Anvers   Dream  Adult, 1 Egg Stage         N49A2               Yes   \n",
       "306  Anvers  Biscoe  Adult, 1 Egg Stage         N13A1               Yes   \n",
       "289  Anvers  Biscoe  Adult, 1 Egg Stage         N53A2               Yes   \n",
       "..      ...     ...                 ...           ...               ...   \n",
       "28   Anvers  Biscoe  Adult, 1 Egg Stage         N18A1                No   \n",
       "273  Anvers  Biscoe  Adult, 1 Egg Stage         N14A2               Yes   \n",
       "194  Anvers   Dream  Adult, 1 Egg Stage         N75A1               Yes   \n",
       "63   Anvers  Biscoe  Adult, 1 Egg Stage         N28A2               Yes   \n",
       "325  Anvers  Biscoe  Adult, 1 Egg Stage         N24A2               Yes   \n",
       "\n",
       "     Date Egg  Culmen Length (mm)  Culmen Depth (mm)  Flipper Length (mm)  \\\n",
       "222  11/27/07                48.7               14.1                210.0   \n",
       "318  11/18/09                48.4               14.4                203.0   \n",
       "97    11/8/08                40.3               18.5                196.0   \n",
       "306  11/20/09                43.4               14.4                218.0   \n",
       "289  11/13/08                50.7               15.0                223.0   \n",
       "..        ...                 ...                ...                  ...   \n",
       "28   11/10/07                37.9               18.6                172.0   \n",
       "273   11/4/08                50.1               15.0                225.0   \n",
       "194  11/14/08                50.9               19.1                196.0   \n",
       "63   11/13/08                41.1               18.2                192.0   \n",
       "325   12/1/09                46.8               16.1                215.0   \n",
       "\n",
       "     Body Mass (g)     Sex  Delta 15 N (o/oo)  Delta 13 C (o/oo)  \\\n",
       "222         4450.0  FEMALE            8.14705          -25.46172   \n",
       "318         4625.0  FEMALE            8.16582          -26.13971   \n",
       "97          4350.0    MALE            8.39459          -26.01152   \n",
       "306         4600.0  FEMALE            8.23468          -26.18599   \n",
       "289         5550.0    MALE            8.63551          -26.74249   \n",
       "..             ...     ...                ...                ...   \n",
       "28          3150.0  FEMALE            8.38404          -25.19837   \n",
       "273         5000.0    MALE            8.50153          -26.61414   \n",
       "194         3550.0    MALE           10.02372          -24.86594   \n",
       "63          4050.0    MALE            8.62264          -26.60023   \n",
       "325         5500.0    MALE            8.32359          -26.05756   \n",
       "\n",
       "                                  Comments  \n",
       "222                                    NaN  \n",
       "318                                    NaN  \n",
       "97                                     NaN  \n",
       "306                                    NaN  \n",
       "289                                    NaN  \n",
       "..                                     ...  \n",
       "28   Nest never observed with full clutch.  \n",
       "273                                    NaN  \n",
       "194                                    NaN  \n",
       "63                                     NaN  \n",
       "325                                    NaN  \n",
       "\n",
       "[86 rows x 17 columns]"
      ]
     },
     "execution_count": 31,
     "metadata": {},
     "output_type": "execute_result"
    }
   ],
   "source": [
    "rows = df.sample(frac =.25) \n",
    "  \n",
    "# checking if sample is 0.25 times data or not \n",
    "  \n",
    "if (0.25*(len(df))== len(rows)): \n",
    "    print( \"Cool\") \n",
    "    print(len(df), len(rows)) \n",
    "  \n",
    "# display \n",
    "rows "
   ]
  },
  {
   "cell_type": "markdown",
   "id": "48e42a07",
   "metadata": {},
   "source": [
    "<b> question: random select ten rows of the penguins_iter.csv data"
   ]
  },
  {
   "cell_type": "code",
   "execution_count": null,
   "id": "87100957",
   "metadata": {},
   "outputs": [],
   "source": []
  },
  {
   "cell_type": "code",
   "execution_count": 32,
   "id": "55e7a7b6",
   "metadata": {},
   "outputs": [
    {
     "data": {
      "text/plain": [
       "Index(['studyName', 'Sample Number', 'Species', 'Region', 'Island', 'Stage',\n",
       "       'Individual ID', 'Clutch Completion', 'Date Egg', 'Culmen Length (mm)',\n",
       "       'Culmen Depth (mm)', 'Flipper Length (mm)', 'Body Mass (g)', 'Sex',\n",
       "       'Delta 15 N (o/oo)', 'Delta 13 C (o/oo)', 'Comments'],\n",
       "      dtype='object')"
      ]
     },
     "execution_count": 32,
     "metadata": {},
     "output_type": "execute_result"
    }
   ],
   "source": [
    "df.columns"
   ]
  },
  {
   "cell_type": "code",
   "execution_count": 34,
   "id": "9e457803",
   "metadata": {},
   "outputs": [
    {
     "data": {
      "text/plain": [
       "43.92192982456142"
      ]
     },
     "execution_count": 34,
     "metadata": {},
     "output_type": "execute_result"
    }
   ],
   "source": [
    "df[\"Culmen Length (mm)\"].mean()"
   ]
  },
  {
   "cell_type": "code",
   "execution_count": 33,
   "id": "83bb26a5",
   "metadata": {},
   "outputs": [
    {
     "data": {
      "text/plain": [
       "45.220000000000006"
      ]
     },
     "execution_count": 33,
     "metadata": {},
     "output_type": "execute_result"
    }
   ],
   "source": [
    "df[\"Culmen Length (mm)\"].sample(n=10).mean()"
   ]
  },
  {
   "cell_type": "code",
   "execution_count": 36,
   "id": "51876294",
   "metadata": {},
   "outputs": [
    {
     "data": {
      "text/plain": [
       "43.280808080808065"
      ]
     },
     "execution_count": 36,
     "metadata": {},
     "output_type": "execute_result"
    }
   ],
   "source": [
    "df[\"Culmen Length (mm)\"].sample(n=100).mean()"
   ]
  },
  {
   "cell_type": "code",
   "execution_count": null,
   "id": "09867e65",
   "metadata": {},
   "outputs": [],
   "source": []
  },
  {
   "cell_type": "code",
   "execution_count": null,
   "id": "1534bb25",
   "metadata": {},
   "outputs": [],
   "source": []
  },
  {
   "cell_type": "markdown",
   "id": "76018c86",
   "metadata": {},
   "source": [
    "### Bootstrapping "
   ]
  },
  {
   "cell_type": "markdown",
   "id": "cb681cd3",
   "metadata": {},
   "source": [
    "average height of the population   \n",
    "1. select 1million to get the average height, ave\n",
    "2. random select 1 million again, ave\n",
    "3. repeates"
   ]
  },
  {
   "cell_type": "code",
   "execution_count": null,
   "id": "877ee908",
   "metadata": {},
   "outputs": [],
   "source": []
  },
  {
   "cell_type": "code",
   "execution_count": null,
   "id": "e94fbf92",
   "metadata": {},
   "outputs": [],
   "source": []
  },
  {
   "cell_type": "code",
   "execution_count": null,
   "id": "4db88b93",
   "metadata": {},
   "outputs": [],
   "source": []
  },
  {
   "cell_type": "code",
   "execution_count": null,
   "id": "267443bb",
   "metadata": {},
   "outputs": [],
   "source": []
  },
  {
   "cell_type": "code",
   "execution_count": null,
   "id": "92d5b975",
   "metadata": {},
   "outputs": [],
   "source": []
  },
  {
   "cell_type": "code",
   "execution_count": 1,
   "id": "f82aa4ae",
   "metadata": {},
   "outputs": [],
   "source": [
    "from scipy.stats import norm"
   ]
  },
  {
   "cell_type": "markdown",
   "id": "1f655e9b",
   "metadata": {},
   "source": [
    "# Hypothesis testing"
   ]
  },
  {
   "cell_type": "markdown",
   "id": "2e757022",
   "metadata": {},
   "source": [
    "Hypothesis: A hypothesis is a statement about an unknown population parameter   \n",
    "A hypothesis test is a test of 2 competing hypotheses  \n",
    "z_score = (sample_mean - hypothesis_mean)/data_std     \n",
    "\n",
    "p-values: probability of obtaining a result assuming the null hyposthesis is true   \n",
    "left-tailed test  norm.cdf()   \n",
    "right-tailed test 1-norm.cdf()  eg, 1-norm.cdf(z_score, loc=0, scale=1)"
   ]
  },
  {
   "cell_type": "markdown",
   "id": "6bf31357",
   "metadata": {},
   "source": [
    "<b> Question: generate a list which length is 100, sample 10 from the list and get the z_score, then get the left_tailed"
   ]
  },
  {
   "cell_type": "code",
   "execution_count": null,
   "id": "743112c6",
   "metadata": {},
   "outputs": [],
   "source": []
  },
  {
   "cell_type": "code",
   "execution_count": null,
   "id": "022b563d",
   "metadata": {},
   "outputs": [],
   "source": []
  },
  {
   "cell_type": "code",
   "execution_count": null,
   "id": "6d608049",
   "metadata": {},
   "outputs": [],
   "source": []
  },
  {
   "cell_type": "code",
   "execution_count": null,
   "id": "8e6aebd2",
   "metadata": {},
   "outputs": [],
   "source": []
  },
  {
   "cell_type": "code",
   "execution_count": null,
   "id": "5ca6a543",
   "metadata": {},
   "outputs": [],
   "source": []
  },
  {
   "cell_type": "code",
   "execution_count": null,
   "id": "59babbac",
   "metadata": {},
   "outputs": [],
   "source": []
  },
  {
   "cell_type": "code",
   "execution_count": null,
   "id": "49e1bca4",
   "metadata": {},
   "outputs": [],
   "source": []
  },
  {
   "cell_type": "code",
   "execution_count": null,
   "id": "ccc576be",
   "metadata": {},
   "outputs": [],
   "source": []
  },
  {
   "cell_type": "code",
   "execution_count": null,
   "id": "a6ce867e",
   "metadata": {},
   "outputs": [],
   "source": []
  },
  {
   "cell_type": "code",
   "execution_count": null,
   "id": "6205925f",
   "metadata": {},
   "outputs": [],
   "source": []
  },
  {
   "cell_type": "code",
   "execution_count": null,
   "id": "86f7999a",
   "metadata": {},
   "outputs": [],
   "source": []
  },
  {
   "cell_type": "code",
   "execution_count": null,
   "id": "301cde94",
   "metadata": {},
   "outputs": [],
   "source": []
  },
  {
   "cell_type": "code",
   "execution_count": null,
   "id": "b6aae834",
   "metadata": {},
   "outputs": [],
   "source": []
  },
  {
   "cell_type": "code",
   "execution_count": null,
   "id": "b3a11e1a",
   "metadata": {},
   "outputs": [],
   "source": []
  },
  {
   "cell_type": "code",
   "execution_count": null,
   "id": "d14f0cbf",
   "metadata": {},
   "outputs": [],
   "source": []
  },
  {
   "cell_type": "code",
   "execution_count": null,
   "id": "a4c9cd1f",
   "metadata": {},
   "outputs": [],
   "source": []
  },
  {
   "cell_type": "code",
   "execution_count": null,
   "id": "05227d36",
   "metadata": {},
   "outputs": [],
   "source": []
  },
  {
   "cell_type": "code",
   "execution_count": null,
   "id": "913fb37a",
   "metadata": {},
   "outputs": [],
   "source": []
  },
  {
   "cell_type": "code",
   "execution_count": null,
   "id": "02674f7d",
   "metadata": {},
   "outputs": [],
   "source": []
  },
  {
   "cell_type": "code",
   "execution_count": null,
   "id": "e091006c",
   "metadata": {},
   "outputs": [],
   "source": []
  },
  {
   "cell_type": "code",
   "execution_count": null,
   "id": "fdaa8c56",
   "metadata": {},
   "outputs": [],
   "source": []
  },
  {
   "cell_type": "code",
   "execution_count": null,
   "id": "5ad53b3e",
   "metadata": {},
   "outputs": [],
   "source": []
  },
  {
   "cell_type": "code",
   "execution_count": null,
   "id": "983b85dc",
   "metadata": {},
   "outputs": [],
   "source": []
  },
  {
   "cell_type": "code",
   "execution_count": null,
   "id": "e37530a3",
   "metadata": {},
   "outputs": [],
   "source": []
  },
  {
   "cell_type": "code",
   "execution_count": null,
   "id": "c13724bc",
   "metadata": {},
   "outputs": [],
   "source": []
  },
  {
   "cell_type": "code",
   "execution_count": null,
   "id": "ca484761",
   "metadata": {},
   "outputs": [],
   "source": []
  },
  {
   "cell_type": "code",
   "execution_count": null,
   "id": "9ffc324b",
   "metadata": {},
   "outputs": [],
   "source": []
  },
  {
   "cell_type": "code",
   "execution_count": null,
   "id": "e53e9f73",
   "metadata": {},
   "outputs": [],
   "source": []
  },
  {
   "cell_type": "code",
   "execution_count": null,
   "id": "04a8dcf4",
   "metadata": {},
   "outputs": [],
   "source": []
  },
  {
   "cell_type": "code",
   "execution_count": null,
   "id": "d13ed930",
   "metadata": {},
   "outputs": [],
   "source": []
  },
  {
   "cell_type": "code",
   "execution_count": null,
   "id": "a8bb7969",
   "metadata": {},
   "outputs": [],
   "source": []
  },
  {
   "cell_type": "code",
   "execution_count": null,
   "id": "1ad4562d",
   "metadata": {},
   "outputs": [],
   "source": []
  },
  {
   "cell_type": "code",
   "execution_count": null,
   "id": "f70b0c3e",
   "metadata": {},
   "outputs": [],
   "source": []
  },
  {
   "cell_type": "code",
   "execution_count": null,
   "id": "880560ee",
   "metadata": {},
   "outputs": [],
   "source": []
  },
  {
   "cell_type": "code",
   "execution_count": null,
   "id": "9d0f7e72",
   "metadata": {},
   "outputs": [],
   "source": []
  },
  {
   "cell_type": "code",
   "execution_count": null,
   "id": "65700a65",
   "metadata": {},
   "outputs": [],
   "source": []
  },
  {
   "cell_type": "code",
   "execution_count": null,
   "id": "38ff4475",
   "metadata": {},
   "outputs": [],
   "source": []
  },
  {
   "cell_type": "code",
   "execution_count": null,
   "id": "d53f817d",
   "metadata": {},
   "outputs": [],
   "source": []
  },
  {
   "cell_type": "code",
   "execution_count": null,
   "id": "2d6e4ae5",
   "metadata": {},
   "outputs": [],
   "source": []
  },
  {
   "cell_type": "code",
   "execution_count": null,
   "id": "1f7c69cc",
   "metadata": {},
   "outputs": [],
   "source": []
  },
  {
   "cell_type": "code",
   "execution_count": null,
   "id": "ce0caf32",
   "metadata": {},
   "outputs": [],
   "source": []
  },
  {
   "cell_type": "code",
   "execution_count": null,
   "id": "14bb7ef2",
   "metadata": {},
   "outputs": [],
   "source": []
  },
  {
   "cell_type": "code",
   "execution_count": null,
   "id": "3a8f2b7e",
   "metadata": {},
   "outputs": [],
   "source": []
  },
  {
   "cell_type": "code",
   "execution_count": null,
   "id": "27d33327",
   "metadata": {},
   "outputs": [],
   "source": []
  },
  {
   "cell_type": "code",
   "execution_count": null,
   "id": "915c5c31",
   "metadata": {},
   "outputs": [],
   "source": []
  },
  {
   "cell_type": "code",
   "execution_count": null,
   "id": "1413d552",
   "metadata": {},
   "outputs": [],
   "source": []
  },
  {
   "cell_type": "code",
   "execution_count": null,
   "id": "fb842818",
   "metadata": {},
   "outputs": [],
   "source": []
  },
  {
   "cell_type": "code",
   "execution_count": null,
   "id": "965876d8",
   "metadata": {},
   "outputs": [],
   "source": []
  },
  {
   "cell_type": "code",
   "execution_count": null,
   "id": "df606ad7",
   "metadata": {},
   "outputs": [],
   "source": []
  },
  {
   "cell_type": "code",
   "execution_count": null,
   "id": "1bc7f59a",
   "metadata": {},
   "outputs": [],
   "source": []
  },
  {
   "cell_type": "code",
   "execution_count": null,
   "id": "12eb2f94",
   "metadata": {},
   "outputs": [],
   "source": []
  },
  {
   "cell_type": "code",
   "execution_count": null,
   "id": "e83a9c10",
   "metadata": {},
   "outputs": [],
   "source": []
  },
  {
   "cell_type": "code",
   "execution_count": null,
   "id": "e68dc079",
   "metadata": {},
   "outputs": [],
   "source": []
  },
  {
   "cell_type": "code",
   "execution_count": null,
   "id": "28fd4659",
   "metadata": {},
   "outputs": [],
   "source": []
  },
  {
   "cell_type": "code",
   "execution_count": null,
   "id": "5e1e9a50",
   "metadata": {},
   "outputs": [],
   "source": []
  }
 ],
 "metadata": {
  "kernelspec": {
   "display_name": "Python 3 (ipykernel)",
   "language": "python",
   "name": "python3"
  },
  "language_info": {
   "codemirror_mode": {
    "name": "ipython",
    "version": 3
   },
   "file_extension": ".py",
   "mimetype": "text/x-python",
   "name": "python",
   "nbconvert_exporter": "python",
   "pygments_lexer": "ipython3",
   "version": "3.9.7"
  }
 },
 "nbformat": 4,
 "nbformat_minor": 5
}
